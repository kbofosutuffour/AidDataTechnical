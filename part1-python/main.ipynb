{
 "cells": [
  {
   "cell_type": "code",
   "execution_count": null,
   "id": "6ae377f9",
   "metadata": {},
   "outputs": [],
   "source": [
    "import pandas\n",
    "import math"
   ]
  },
  {
   "cell_type": "code",
   "execution_count": null,
   "id": "ac382bc6",
   "metadata": {},
   "outputs": [],
   "source": [
    "# Importing the csv files as dataframe objects\n",
    "a = pandas.read_csv('a.csv')\n",
    "b = pandas.read_csv('b.csv')"
   ]
  },
  {
   "cell_type": "code",
   "execution_count": null,
   "id": "3b5fa0db",
   "metadata": {},
   "outputs": [],
   "source": [
    "def dist(point1, point2):\n",
    "    \"\"\"\n",
    "    Calculates the [Euclidean] distance between two points\n",
    "    given as parameters\n",
    "    \"\"\"\n",
    "    diff_x = point1[0] - point2[0]\n",
    "    diff_y = point1[1] - point2[1]\n",
    "    return math.sqrt( (diff_x)**2 + (diff_y)**2 )"
   ]
  },
  {
   "cell_type": "code",
   "execution_count": null,
   "id": "e73afedf",
   "metadata": {},
   "outputs": [],
   "source": [
    "# Defining global variables used to save distances and save\n",
    "# the shortest and farthest points\n",
    "\n",
    "# The ID's of points from both files with the shortest and farthest points\n",
    "min_indexes = [0,0]\n",
    "max_indexes = [0,0]\n",
    "\n",
    "# The coordinates of the points of shortest distance\n",
    "min_a = []\n",
    "min_b = []\n",
    "\n",
    "# The coordinate of the points of farthest distance \n",
    "max_a = []\n",
    "max_b = []\n",
    "\n",
    "min_distance = dist(a.loc[0], b.loc[0])\n",
    "max_distance = 0"
   ]
  },
  {
   "cell_type": "code",
   "execution_count": null,
   "id": "2667c5a9",
   "metadata": {},
   "outputs": [],
   "source": [
    "def parseData():\n",
    "    \"\"\"\n",
    "    Iterates through the points of both input files\n",
    "    and finds the shortest and farthest points\n",
    "    \"\"\"\n",
    "    for a_value in a.itertuples():\n",
    "        a_id = a_value[0]\n",
    "        point_a = [a_value[1], a_value[2]]\n",
    "        for b_value in b.itertuples():\n",
    "            b_id = b_value[0]\n",
    "            point_b = [b_value[1], b_value[2]]\n",
    "            distance = dist(point_a, point_b)\n",
    "            isMinOrMax(a_id, b_id, point_a, point_b, distance)\n",
    "\n",
    "\n",
    "def isMinOrMax(a_id, b_id, point_a, point_b, distance):\n",
    "    \"\"\"\n",
    "    Determines whether the two points provided should become\n",
    "    the points of shortest or greatest distance\n",
    "    \"\"\"\n",
    "    global max_distance, min_distance, max_a, max_b, min_a, min_b\n",
    "    if distance > max_distance:\n",
    "        max_distance = distance\n",
    "        max_indexes[0] = a_id\n",
    "        max_indexes[1] = b_id\n",
    "        max_a = point_a\n",
    "        max_b = point_b\n",
    "    elif distance < min_distance:\n",
    "        min_distance = distance\n",
    "        min_indexes[0] = a_id\n",
    "        min_indexes[1] = b_id\n",
    "        min_a = point_a\n",
    "        min_b = point_b"
   ]
  },
  {
   "cell_type": "code",
   "execution_count": null,
   "id": "0e827c57",
   "metadata": {},
   "outputs": [],
   "source": [
    "parseData()\n",
    "\n",
    "print(f\"\"\"\n",
    "Closest Points: \n",
    "Point A: ({min_a[0]}, {min_a[1]}, {min_indexes[0]})\n",
    "Point B: ({min_b[0]}, {min_b[1]}, {min_indexes[1]})\n",
    "Distance: {min_distance}\n",
    "\n",
    "Farthest Points: \n",
    "Point A: ({max_a[0]}, {max_a[1]}, {max_indexes[0]})\n",
    "Point B: ({max_b[0]}, {max_b[1]}, {max_indexes[1]})\n",
    "Distance: {max_distance}\n",
    "\"\"\")\n",
    "\n"
   ]
  }
 ],
 "metadata": {
  "kernelspec": {
   "display_name": "Python 3 (ipykernel)",
   "language": "python",
   "name": "python3"
  },
  "language_info": {
   "codemirror_mode": {
    "name": "ipython",
    "version": 3
   },
   "file_extension": ".py",
   "mimetype": "text/x-python",
   "name": "python",
   "nbconvert_exporter": "python",
   "pygments_lexer": "ipython3",
   "version": "3.11.5"
  }
 },
 "nbformat": 4,
 "nbformat_minor": 5
}
