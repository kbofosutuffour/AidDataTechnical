{
 "cells": [
  {
   "cell_type": "code",
   "execution_count": 2,
   "id": "6ae377f9",
   "metadata": {},
   "outputs": [],
   "source": [
    "import pandas\n",
    "import math"
   ]
  },
  {
   "cell_type": "code",
   "execution_count": 3,
   "id": "ac382bc6",
   "metadata": {},
   "outputs": [
    {
     "name": "stdout",
     "output_type": "stream",
     "text": [
      "X             54.355536\n",
      "Y             46.292160\n",
      "ID             1.000000\n",
      "Unnamed: 3          NaN\n",
      "Name: 1, dtype: float64\n",
      "X             12.936813\n",
      "Y            -23.680292\n",
      "ID             1.000000\n",
      "Unnamed: 3          NaN\n",
      "Name: 1, dtype: float64\n"
     ]
    }
   ],
   "source": [
    "# Importing the csv files as dataframe objects\n",
    "a = pandas.read_csv('a.csv')\n",
    "b = pandas.read_csv('b.csv')\n",
    "print(a.loc[1])\n",
    "print(b.loc[1])"
   ]
  },
  {
   "cell_type": "code",
   "execution_count": 3,
   "id": "3b5fa0db",
   "metadata": {},
   "outputs": [],
   "source": [
    "#Defining a distance formula\n",
    "def dist(point1, point2):\n",
    "    \"\"\"\n",
    "    Defining a distance formula\n",
    "    \"\"\"\n",
    "    diff_x = point1.at['X'] - point2.at['X']\n",
    "    diff_y = point1.at['Y'] - point2.at['Y']\n",
    "    return math.sqrt( (diff_x)**2 + (diff_y)**2 )"
   ]
  },
  {
   "cell_type": "code",
   "execution_count": null,
   "id": "664bec49",
   "metadata": {},
   "outputs": [],
   "source": []
  },
  {
   "cell_type": "code",
   "execution_count": 5,
   "id": "e73afedf",
   "metadata": {},
   "outputs": [],
   "source": [
    "# Defining global variables used to save distances and save\n",
    "# the shortest and farthest points\n",
    "min_indexes = [0,0]\n",
    "max_indexes = [0,0]\n",
    "\n",
    "min_distance = dist(a.loc[0], b.loc[0])\n",
    "max_distance = 0"
   ]
  },
  {
   "cell_type": "code",
   "execution_count": 6,
   "id": "2667c5a9",
   "metadata": {},
   "outputs": [],
   "source": [
    "def parseData():\n",
    "    \"\"\"\n",
    "    Iterates through the points of both input files\n",
    "    and finds the shortest and farthest points\n",
    "    \"\"\"\n",
    "    for a_value in a.itertuples():\n",
    "        a_id = a_value[0]\n",
    "        point_a = a_value[1]\n",
    "        for b_value in b.iterrows():\n",
    "            b_id = b_value[0]\n",
    "            point_b = b_value[1]\n",
    "            \n",
    "            distance = dist(point_a, point_b)\n",
    "            isMinOrMax(a_id, b_id, distance)\n",
    "\n",
    "def isMinOrMax(a_id, b_id, distance):\n",
    "    \"\"\"\n",
    "    Determines whether the two points provided should become\n",
    "    the points of shortest or greatest distance\n",
    "    \"\"\"\n",
    "    global max_distance, min_distance\n",
    "    if distance > max_distance:\n",
    "        max_distance = distance\n",
    "        max_indexes[0] = a_id\n",
    "        max_indexes[1] = b_id\n",
    "    elif distance < min_distance:\n",
    "        min_distance = distance\n",
    "        min_indexes[0] = a_id\n",
    "        min_indexes[1] = b_id"
   ]
  },
  {
   "cell_type": "code",
   "execution_count": 7,
   "id": "0e827c57",
   "metadata": {},
   "outputs": [
    {
     "name": "stdout",
     "output_type": "stream",
     "text": [
      "[2203, 1613]\n",
      "[872, 720]\n",
      "0.0292231613396485\n",
      "139.93957618686142\n",
      "ID's of closest points: Point 2203 and Point 1613\n",
      "ID's of farthest points: Point 872 and Point 720\n"
     ]
    }
   ],
   "source": [
    "parseData()\n",
    "print(min_indexes)\n",
    "print(max_indexes)\n",
    "print(min_distance)\n",
    "print(max_distance)\n",
    "\n",
    "print(f\"ID's of closest points: Point {min_indexes[0]} and Point {min_indexes[1]}\")\n",
    "print(f\"ID's of farthest points: Point {max_indexes[0]} and Point {max_indexes[1]}\")"
   ]
  }
 ],
 "metadata": {
  "kernelspec": {
   "display_name": "Python 3 (ipykernel)",
   "language": "python",
   "name": "python3"
  },
  "language_info": {
   "codemirror_mode": {
    "name": "ipython",
    "version": 3
   },
   "file_extension": ".py",
   "mimetype": "text/x-python",
   "name": "python",
   "nbconvert_exporter": "python",
   "pygments_lexer": "ipython3",
   "version": "3.11.5"
  }
 },
 "nbformat": 4,
 "nbformat_minor": 5
}
